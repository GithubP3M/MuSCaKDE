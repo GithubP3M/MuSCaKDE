{
 "cells": [
  {
   "cell_type": "code",
   "execution_count": 11,
   "id": "bc771e03",
   "metadata": {},
   "outputs": [
    {
     "name": "stderr",
     "output_type": "stream",
     "text": [
      "ERROR:root:DLL load failed while importing QtCore: Le module spécifié est introuvable.\n"
     ]
    }
   ],
   "source": [
    "import numpy as np\n",
    "from scipy import stats\n",
    "from mayavi import mlab\n",
    "%gui qt"
   ]
  },
  {
   "cell_type": "code",
   "execution_count": 12,
   "id": "4f58be5d",
   "metadata": {},
   "outputs": [],
   "source": [
    "mu=np.array([1,10,20])\n",
    "# Let's change this so that the points won't all lie in a plane...\n",
    "sigma=np.matrix([[20,10,10],\n",
    "                 [10,25,1],\n",
    "                 [10,1,50]])"
   ]
  },
  {
   "cell_type": "code",
   "execution_count": 13,
   "id": "077ea54d",
   "metadata": {},
   "outputs": [],
   "source": [
    "data=np.random.multivariate_normal(mu,sigma,1000)\n",
    "values = data.T\n"
   ]
  },
  {
   "cell_type": "code",
   "execution_count": 14,
   "id": "e67ed0b6",
   "metadata": {},
   "outputs": [],
   "source": [
    "kde = stats.gaussian_kde(values)"
   ]
  },
  {
   "cell_type": "code",
   "execution_count": 15,
   "id": "aeb36f13",
   "metadata": {},
   "outputs": [],
   "source": [
    "xmin, ymin, zmin = data.min(axis=0)\n",
    "xmax, ymax, zmax = data.max(axis=0)\n",
    "xi, yi, zi = np.mgrid[xmin:xmax:50j, ymin:ymax:50j, zmin:zmax:50j]"
   ]
  },
  {
   "cell_type": "code",
   "execution_count": 16,
   "id": "4ffa9649",
   "metadata": {},
   "outputs": [],
   "source": [
    "coords = np.vstack([item.ravel() for item in [xi, yi, zi]])\n",
    "density = kde(coords).reshape(xi.shape)"
   ]
  },
  {
   "cell_type": "code",
   "execution_count": 17,
   "id": "6b367b26",
   "metadata": {},
   "outputs": [
    {
     "ename": "ImportError",
     "evalue": "Could not import backend for traitsui.  Make sure you\n        have a suitable UI toolkit like PyQt/PySide or wxPython\n        installed.",
     "output_type": "error",
     "traceback": [
      "\u001b[1;31m---------------------------------------------------------------------------\u001b[0m",
      "\u001b[1;31mImportError\u001b[0m                               Traceback (most recent call last)",
      "Cell \u001b[1;32mIn[17], line 1\u001b[0m\n\u001b[1;32m----> 1\u001b[0m mlab\u001b[38;5;241m.\u001b[39mcontour3d(xi, yi, zi, density, opacity\u001b[38;5;241m=\u001b[39m\u001b[38;5;241m0.5\u001b[39m)\n",
      "File \u001b[1;32m~\\anaconda3\\Lib\\site-packages\\mayavi\\tools\\helper_functions.py:38\u001b[0m, in \u001b[0;36mdocument_pipeline.<locals>.the_function\u001b[1;34m(*args, **kwargs)\u001b[0m\n\u001b[0;32m     37\u001b[0m \u001b[38;5;28;01mdef\u001b[39;00m \u001b[38;5;21mthe_function\u001b[39m(\u001b[38;5;241m*\u001b[39margs, \u001b[38;5;241m*\u001b[39m\u001b[38;5;241m*\u001b[39mkwargs):\n\u001b[1;32m---> 38\u001b[0m     \u001b[38;5;28;01mreturn\u001b[39;00m pipeline(\u001b[38;5;241m*\u001b[39margs, \u001b[38;5;241m*\u001b[39m\u001b[38;5;241m*\u001b[39mkwargs)\n",
      "File \u001b[1;32m~\\anaconda3\\Lib\\site-packages\\mayavi\\tools\\helper_functions.py:78\u001b[0m, in \u001b[0;36mPipeline.__call__\u001b[1;34m(self, *args, **kwargs)\u001b[0m\n\u001b[0;32m     76\u001b[0m     scene \u001b[38;5;241m=\u001b[39m \u001b[38;5;28mgetattr\u001b[39m(figure, \u001b[38;5;124m'\u001b[39m\u001b[38;5;124mscene\u001b[39m\u001b[38;5;124m'\u001b[39m, \u001b[38;5;28;01mNone\u001b[39;00m)\n\u001b[0;32m     77\u001b[0m \u001b[38;5;28;01melse\u001b[39;00m:\n\u001b[1;32m---> 78\u001b[0m     scene \u001b[38;5;241m=\u001b[39m tools\u001b[38;5;241m.\u001b[39mgcf()\u001b[38;5;241m.\u001b[39mscene\n\u001b[0;32m     79\u001b[0m \u001b[38;5;28;01mif\u001b[39;00m scene \u001b[38;5;129;01mis\u001b[39;00m \u001b[38;5;129;01mnot\u001b[39;00m \u001b[38;5;28;01mNone\u001b[39;00m:\n\u001b[0;32m     80\u001b[0m     \u001b[38;5;28mself\u001b[39m\u001b[38;5;241m.\u001b[39m_do_redraw \u001b[38;5;241m=\u001b[39m \u001b[38;5;129;01mnot\u001b[39;00m scene\u001b[38;5;241m.\u001b[39mdisable_render\n",
      "File \u001b[1;32m~\\anaconda3\\Lib\\site-packages\\mayavi\\tools\\figure.py:114\u001b[0m, in \u001b[0;36mgcf\u001b[1;34m(engine)\u001b[0m\n\u001b[0;32m    108\u001b[0m \u001b[38;5;250m\u001b[39m\u001b[38;5;124;03m\"\"\"Return a handle to the current figure.\u001b[39;00m\n\u001b[0;32m    109\u001b[0m \n\u001b[0;32m    110\u001b[0m \u001b[38;5;124;03mYou can supply the engine from which you want to retrieve the\u001b[39;00m\n\u001b[0;32m    111\u001b[0m \u001b[38;5;124;03mcurrent figure, if you have several mayavi engines.\u001b[39;00m\n\u001b[0;32m    112\u001b[0m \u001b[38;5;124;03m\"\"\"\u001b[39;00m\n\u001b[0;32m    113\u001b[0m \u001b[38;5;28;01mif\u001b[39;00m engine \u001b[38;5;129;01mis\u001b[39;00m \u001b[38;5;28;01mNone\u001b[39;00m:\n\u001b[1;32m--> 114\u001b[0m     engine \u001b[38;5;241m=\u001b[39m get_engine()\n\u001b[0;32m    115\u001b[0m scene \u001b[38;5;241m=\u001b[39m engine\u001b[38;5;241m.\u001b[39mcurrent_scene\n\u001b[0;32m    116\u001b[0m \u001b[38;5;28;01mif\u001b[39;00m scene \u001b[38;5;129;01mis\u001b[39;00m \u001b[38;5;28;01mNone\u001b[39;00m:\n",
      "File \u001b[1;32m~\\anaconda3\\Lib\\site-packages\\mayavi\\tools\\engine_manager.py:94\u001b[0m, in \u001b[0;36mEngineManager.get_engine\u001b[1;34m(self)\u001b[0m\n\u001b[0;32m     91\u001b[0m     suitable \u001b[38;5;241m=\u001b[39m [e \u001b[38;5;28;01mfor\u001b[39;00m e \u001b[38;5;129;01min\u001b[39;00m engines\n\u001b[0;32m     92\u001b[0m                 \u001b[38;5;28;01mif\u001b[39;00m e\u001b[38;5;241m.\u001b[39m\u001b[38;5;18m__class__\u001b[39m\u001b[38;5;241m.\u001b[39m\u001b[38;5;18m__name__\u001b[39m \u001b[38;5;241m==\u001b[39m \u001b[38;5;124m'\u001b[39m\u001b[38;5;124mEngine\u001b[39m\u001b[38;5;124m'\u001b[39m]\n\u001b[0;32m     93\u001b[0m \u001b[38;5;28;01mif\u001b[39;00m \u001b[38;5;28mlen\u001b[39m(suitable) \u001b[38;5;241m==\u001b[39m \u001b[38;5;241m0\u001b[39m:\n\u001b[1;32m---> 94\u001b[0m     \u001b[38;5;28;01mreturn\u001b[39;00m \u001b[38;5;28mself\u001b[39m\u001b[38;5;241m.\u001b[39mnew_engine()\n\u001b[0;32m     95\u001b[0m \u001b[38;5;28;01melse\u001b[39;00m:\n\u001b[0;32m     96\u001b[0m     \u001b[38;5;66;03m# Return the most engine add to the list most recently.\u001b[39;00m\n\u001b[0;32m     97\u001b[0m     \u001b[38;5;28mself\u001b[39m\u001b[38;5;241m.\u001b[39mcurrent_engine \u001b[38;5;241m=\u001b[39m suitable[\u001b[38;5;241m-\u001b[39m\u001b[38;5;241m1\u001b[39m]\n",
      "File \u001b[1;32m~\\anaconda3\\Lib\\site-packages\\mayavi\\tools\\engine_manager.py:139\u001b[0m, in \u001b[0;36mEngineManager.new_engine\u001b[1;34m(self)\u001b[0m\n\u001b[0;32m    135\u001b[0m \u001b[38;5;28;01mdef\u001b[39;00m \u001b[38;5;21mnew_engine\u001b[39m(\u001b[38;5;28mself\u001b[39m):\n\u001b[0;32m    136\u001b[0m \u001b[38;5;250m    \u001b[39m\u001b[38;5;124;03m\"\"\" Creates a new engine, envisage or not depending on the\u001b[39;00m\n\u001b[0;32m    137\u001b[0m \u001b[38;5;124;03m        options.\u001b[39;00m\n\u001b[0;32m    138\u001b[0m \u001b[38;5;124;03m    \"\"\"\u001b[39;00m\n\u001b[1;32m--> 139\u001b[0m     check_backend()\n\u001b[0;32m    140\u001b[0m     \u001b[38;5;28;01mif\u001b[39;00m options\u001b[38;5;241m.\u001b[39mbackend \u001b[38;5;241m==\u001b[39m \u001b[38;5;124m'\u001b[39m\u001b[38;5;124menvisage\u001b[39m\u001b[38;5;124m'\u001b[39m:\n\u001b[0;32m    141\u001b[0m         \u001b[38;5;28;01mfrom\u001b[39;00m \u001b[38;5;21;01mmayavi\u001b[39;00m\u001b[38;5;21;01m.\u001b[39;00m\u001b[38;5;21;01mplugins\u001b[39;00m\u001b[38;5;21;01m.\u001b[39;00m\u001b[38;5;21;01mapp\u001b[39;00m \u001b[38;5;28;01mimport\u001b[39;00m Mayavi\n",
      "File \u001b[1;32m~\\anaconda3\\Lib\\site-packages\\mayavi\\tools\\engine_manager.py:42\u001b[0m, in \u001b[0;36mcheck_backend\u001b[1;34m()\u001b[0m\n\u001b[0;32m     37\u001b[0m \u001b[38;5;28;01mif\u001b[39;00m (options\u001b[38;5;241m.\u001b[39mbackend \u001b[38;5;241m!=\u001b[39m \u001b[38;5;124m'\u001b[39m\u001b[38;5;124mtest\u001b[39m\u001b[38;5;124m'\u001b[39m \u001b[38;5;129;01mand\u001b[39;00m \u001b[38;5;129;01mnot\u001b[39;00m options\u001b[38;5;241m.\u001b[39moffscreen) \u001b[38;5;129;01mand\u001b[39;00m \\\n\u001b[0;32m     38\u001b[0m    (ETSConfig\u001b[38;5;241m.\u001b[39mtoolkit \u001b[38;5;129;01min\u001b[39;00m (\u001b[38;5;124m'\u001b[39m\u001b[38;5;124mnull\u001b[39m\u001b[38;5;124m'\u001b[39m, \u001b[38;5;124m'\u001b[39m\u001b[38;5;124m'\u001b[39m) \u001b[38;5;129;01mand\u001b[39;00m env_toolkit \u001b[38;5;241m!=\u001b[39m \u001b[38;5;124m'\u001b[39m\u001b[38;5;124mnull\u001b[39m\u001b[38;5;124m'\u001b[39m):\n\u001b[0;32m     39\u001b[0m     msg \u001b[38;5;241m=\u001b[39m \u001b[38;5;124m'''\u001b[39m\u001b[38;5;124mCould not import backend for traitsui.  Make sure you\u001b[39m\n\u001b[0;32m     40\u001b[0m \u001b[38;5;124m    have a suitable UI toolkit like PyQt/PySide or wxPython\u001b[39m\n\u001b[0;32m     41\u001b[0m \u001b[38;5;124m    installed.\u001b[39m\u001b[38;5;124m'''\u001b[39m\n\u001b[1;32m---> 42\u001b[0m     \u001b[38;5;28;01mraise\u001b[39;00m \u001b[38;5;167;01mImportError\u001b[39;00m(msg)\n",
      "\u001b[1;31mImportError\u001b[0m: Could not import backend for traitsui.  Make sure you\n        have a suitable UI toolkit like PyQt/PySide or wxPython\n        installed."
     ]
    }
   ],
   "source": [
    "mlab.contour3d(xi, yi, zi, density, opacity=0.5)"
   ]
  },
  {
   "cell_type": "code",
   "execution_count": null,
   "id": "2c3b0ea3",
   "metadata": {},
   "outputs": [],
   "source": [
    "mlab.axes()"
   ]
  },
  {
   "cell_type": "code",
   "execution_count": null,
   "id": "1e55edfc",
   "metadata": {},
   "outputs": [],
   "source": [
    "mlab.show()"
   ]
  },
  {
   "cell_type": "code",
   "execution_count": null,
   "id": "80414b68",
   "metadata": {},
   "outputs": [],
   "source": [
    "import numpy as np\n",
    "\n",
    "import pyvista as pv\n"
   ]
  },
  {
   "cell_type": "code",
   "execution_count": 9,
   "id": "edc909ca",
   "metadata": {},
   "outputs": [
    {
     "ename": "NameError",
     "evalue": "name 'pv' is not defined",
     "output_type": "error",
     "traceback": [
      "\u001b[1;31m---------------------------------------------------------------------------\u001b[0m",
      "\u001b[1;31mNameError\u001b[0m                                 Traceback (most recent call last)",
      "Cell \u001b[1;32mIn[9], line 16\u001b[0m\n\u001b[0;32m     14\u001b[0m n \u001b[38;5;241m=\u001b[39m \u001b[38;5;241m100\u001b[39m\n\u001b[0;32m     15\u001b[0m x_min, y_min, z_min \u001b[38;5;241m=\u001b[39m \u001b[38;5;241m-\u001b[39m\u001b[38;5;241m5\u001b[39m, \u001b[38;5;241m-\u001b[39m\u001b[38;5;241m5\u001b[39m, \u001b[38;5;241m-\u001b[39m\u001b[38;5;241m3\u001b[39m\n\u001b[1;32m---> 16\u001b[0m grid \u001b[38;5;241m=\u001b[39m pv\u001b[38;5;241m.\u001b[39mUniformGrid(\n\u001b[0;32m     17\u001b[0m     dims\u001b[38;5;241m=\u001b[39m(n, n, n),\n\u001b[0;32m     18\u001b[0m     spacing\u001b[38;5;241m=\u001b[39m(\u001b[38;5;28mabs\u001b[39m(x_min) \u001b[38;5;241m/\u001b[39m n \u001b[38;5;241m*\u001b[39m \u001b[38;5;241m2\u001b[39m, \u001b[38;5;28mabs\u001b[39m(y_min) \u001b[38;5;241m/\u001b[39m n \u001b[38;5;241m*\u001b[39m \u001b[38;5;241m2\u001b[39m, \u001b[38;5;28mabs\u001b[39m(z_min) \u001b[38;5;241m/\u001b[39m n \u001b[38;5;241m*\u001b[39m \u001b[38;5;241m2\u001b[39m),\n\u001b[0;32m     19\u001b[0m     origin\u001b[38;5;241m=\u001b[39m(x_min, y_min, z_min),\n\u001b[0;32m     20\u001b[0m )\n\u001b[0;32m     21\u001b[0m x, y, z \u001b[38;5;241m=\u001b[39m grid\u001b[38;5;241m.\u001b[39mpoints\u001b[38;5;241m.\u001b[39mT\n\u001b[0;32m     23\u001b[0m \u001b[38;5;66;03m# sample and plot\u001b[39;00m\n",
      "\u001b[1;31mNameError\u001b[0m: name 'pv' is not defined"
     ]
    }
   ],
   "source": [
    "a = 0.9\n",
    "\n",
    "\n",
    "def spider_cage(x, y, z):\n",
    "    x2 = x * x\n",
    "    y2 = y * y\n",
    "    x2_y2 = x2 + y2\n",
    "    return (np.sqrt((x2 - y2) ** 2 / x2_y2 + 3 * (z * np.sin(a)) ** 2) - 3) ** 2 + 6 * (\n",
    "        np.sqrt((x * y) ** 2 / x2_y2 + (z * np.cos(a)) ** 2) - 1.5\n",
    "    ) ** 2\n",
    "\n",
    "\n",
    "# create a uniform grid to sample the function with\n",
    "n = 100\n",
    "x_min, y_min, z_min = -5, -5, -3\n",
    "grid = pv.UniformGrid(\n",
    "    dims=(n, n, n),\n",
    "    spacing=(abs(x_min) / n * 2, abs(y_min) / n * 2, abs(z_min) / n * 2),\n",
    "    origin=(x_min, y_min, z_min),\n",
    ")\n",
    "x, y, z = grid.points.T\n",
    "\n",
    "# sample and plot\n",
    "values = spider_cage(x, y, z)\n"
   ]
  },
  {
   "cell_type": "code",
   "execution_count": 10,
   "id": "8e470d7b",
   "metadata": {},
   "outputs": [
    {
     "ename": "NameError",
     "evalue": "name 'grid' is not defined",
     "output_type": "error",
     "traceback": [
      "\u001b[1;31m---------------------------------------------------------------------------\u001b[0m",
      "\u001b[1;31mNameError\u001b[0m                                 Traceback (most recent call last)",
      "Cell \u001b[1;32mIn[10], line 1\u001b[0m\n\u001b[1;32m----> 1\u001b[0m mesh \u001b[38;5;241m=\u001b[39m grid\u001b[38;5;241m.\u001b[39mcontour(\u001b[38;5;241m1\u001b[39m, values, method\u001b[38;5;241m=\u001b[39m\u001b[38;5;124m'\u001b[39m\u001b[38;5;124mmarching_cubes\u001b[39m\u001b[38;5;124m'\u001b[39m, rng\u001b[38;5;241m=\u001b[39m[\u001b[38;5;241m1\u001b[39m, \u001b[38;5;241m0\u001b[39m])\n\u001b[0;32m      2\u001b[0m dist \u001b[38;5;241m=\u001b[39m np\u001b[38;5;241m.\u001b[39mlinalg\u001b[38;5;241m.\u001b[39mnorm(mesh\u001b[38;5;241m.\u001b[39mpoints, axis\u001b[38;5;241m=\u001b[39m\u001b[38;5;241m1\u001b[39m)\n\u001b[0;32m      3\u001b[0m mesh\u001b[38;5;241m.\u001b[39mplot(scalars\u001b[38;5;241m=\u001b[39mdist, smooth_shading\u001b[38;5;241m=\u001b[39m\u001b[38;5;28;01mTrue\u001b[39;00m, specular\u001b[38;5;241m=\u001b[39m\u001b[38;5;241m5\u001b[39m, cmap\u001b[38;5;241m=\u001b[39m\u001b[38;5;124m\"\u001b[39m\u001b[38;5;124mplasma\u001b[39m\u001b[38;5;124m\"\u001b[39m, show_scalar_bar\u001b[38;5;241m=\u001b[39m\u001b[38;5;28;01mFalse\u001b[39;00m)\n",
      "\u001b[1;31mNameError\u001b[0m: name 'grid' is not defined"
     ]
    }
   ],
   "source": [
    "mesh = grid.contour(1, values, method='marching_cubes', rng=[1, 0])\n",
    "dist = np.linalg.norm(mesh.points, axis=1)\n",
    "mesh.plot(scalars=dist, smooth_shading=True, specular=5, cmap=\"plasma\", show_scalar_bar=False)"
   ]
  },
  {
   "cell_type": "code",
   "execution_count": null,
   "id": "c55c09d9",
   "metadata": {},
   "outputs": [],
   "source": [
    "values.shape"
   ]
  },
  {
   "cell_type": "code",
   "execution_count": null,
   "id": "0dd2d12b",
   "metadata": {},
   "outputs": [],
   "source": [
    "mesh"
   ]
  },
  {
   "cell_type": "code",
   "execution_count": null,
   "id": "6da8c7aa",
   "metadata": {},
   "outputs": [],
   "source": [
    "dist"
   ]
  },
  {
   "cell_type": "code",
   "execution_count": null,
   "id": "5ef5b2cf",
   "metadata": {},
   "outputs": [],
   "source": [
    "spider_cage(x[0], y[0], z[0])"
   ]
  },
  {
   "cell_type": "code",
   "execution_count": null,
   "id": "6864f043",
   "metadata": {},
   "outputs": [],
   "source": [
    "x[0],y[0],z[0]"
   ]
  },
  {
   "cell_type": "code",
   "execution_count": null,
   "id": "b775528b",
   "metadata": {},
   "outputs": [],
   "source": [
    "values"
   ]
  },
  {
   "cell_type": "code",
   "execution_count": null,
   "id": "8339f1ec",
   "metadata": {},
   "outputs": [],
   "source": [
    "density.shape"
   ]
  },
  {
   "cell_type": "code",
   "execution_count": null,
   "id": "163c885e",
   "metadata": {},
   "outputs": [],
   "source": [
    "density[0].shape"
   ]
  },
  {
   "cell_type": "code",
   "execution_count": null,
   "id": "32d9f6c4",
   "metadata": {},
   "outputs": [],
   "source": [
    "values"
   ]
  },
  {
   "cell_type": "code",
   "execution_count": null,
   "id": "d20629d3",
   "metadata": {},
   "outputs": [],
   "source": [
    "values.max()"
   ]
  },
  {
   "cell_type": "markdown",
   "id": "f7b76abd",
   "metadata": {},
   "source": [
    "values.min()"
   ]
  },
  {
   "cell_type": "code",
   "execution_count": null,
   "id": "03ee6cc2",
   "metadata": {},
   "outputs": [],
   "source": [
    "values.min()"
   ]
  },
  {
   "cell_type": "code",
   "execution_count": null,
   "id": "1cc10878",
   "metadata": {},
   "outputs": [],
   "source": []
  }
 ],
 "metadata": {
  "kernelspec": {
   "display_name": "Python 3 (ipykernel)",
   "language": "python",
   "name": "python3"
  },
  "language_info": {
   "codemirror_mode": {
    "name": "ipython",
    "version": 3
   },
   "file_extension": ".py",
   "mimetype": "text/x-python",
   "name": "python",
   "nbconvert_exporter": "python",
   "pygments_lexer": "ipython3",
   "version": "3.11.7"
  }
 },
 "nbformat": 4,
 "nbformat_minor": 5
}
